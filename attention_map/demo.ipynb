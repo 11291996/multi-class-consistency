{
 "cells": [
  {
   "cell_type": "code",
   "execution_count": null,
   "metadata": {},
   "outputs": [],
   "source": [
    "from diffusers import StableDiffusionPipeline\n",
    "from matplotlib import pyplot as plt\n",
    "import numpy as np\n",
    "import time\n",
    "import torch\n",
    "import random\n",
    "import daam\n",
    "\n",
    "def set_seed(seed):\n",
    "    gen = torch.Generator(device='cuda:3')\n",
    "    random.seed(seed)\n",
    "    np.random.seed(seed)\n",
    "    torch.cuda.manual_seed(seed)\n",
    "    torch.manual_seed(seed)\n",
    "\n",
    "    return gen.manual_seed(s)\n",
    "\n",
    "\n",
    "model = StableDiffusionPipeline.from_pretrained('stabilityai/stable-diffusion-2-base')\n",
    "model = model.to('cuda:3')"
   ]
  },
  {
   "cell_type": "code",
   "execution_count": null,
   "metadata": {},
   "outputs": [],
   "source": [
    "def make_im_subplots(*args):\n",
    "    fig, ax = plt.subplots(*args)\n",
    "\n",
    "    for ax_ in ax.flatten():\n",
    "        ax_.set_xticks([])\n",
    "        ax_.set_yticks([])\n",
    "\n",
    "    return fig, ax\n",
    "\n",
    "s = 0\n",
    "gen = set_seed(s)\n",
    "\n",
    "two_object = model('a car and a boy', num_inference_steps=20, generator=gen).images[0]\n",
    "with daam.trace(model, save_heads=True) as trc:\n",
    "    masa_objects = model('a blue car and a running boy', num_inference_steps=20, generator=gen).images[0]\n",
    "    car_map = trc.compute_global_heat_map().compute_word_heat_map('car')\n",
    "    boy_map = trc.compute_global_heat_map().compute_word_heat_map('boy')\n",
    "\n",
    "plt.rcParams['figure.figsize'] = (8, 8)\n",
    "fig, ax = make_im_subplots(2, 2)\n",
    "\n",
    "ax[0, 0].imshow(two_object)\n",
    "ax[0,1].imshow(masa_objects)\n",
    "car_map.plot_overlay(masa_objects, ax=ax[1, 0])\n",
    "boy_map.plot_overlay(masa_objects, ax=ax[1, 1])\n",
    "plt.show()"
   ]
  },
  {
   "cell_type": "code",
   "execution_count": null,
   "metadata": {},
   "outputs": [],
   "source": [
    "def make_im_subplots(*args):\n",
    "    fig, ax = plt.subplots(*args)\n",
    "\n",
    "    for ax_ in ax.flatten():\n",
    "        ax_.set_xticks([])\n",
    "        ax_.set_yticks([])\n",
    "\n",
    "    return fig, ax\n",
    "\n",
    "s = int(time.time())\n",
    "gen = set_seed(s)\n",
    "\n",
    "with daam.trace(model, save_heads=True) as trc:\n",
    "    blue_image = model('a blue car driving down the street', num_inference_steps=20, generator=gen).images[0]\n",
    "    blue_map = trc.compute_global_heat_map().compute_word_heat_map('blue')\n",
    "\n",
    "gen = set_seed(s)\n",
    "\n",
    "with daam.trace(model, load_heads=True) as trc:\n",
    "    green_image = model('a green car driving down the street', num_inference_steps=20, generator=gen).images[0]\n",
    "    green_map = trc.compute_global_heat_map().compute_word_heat_map('green')\n",
    "\n",
    "gen = set_seed(s)\n",
    "\n",
    "with daam.trace(model, load_heads=True) as trc:\n",
    "    red_image = model('a red car driving down the street', num_inference_steps=20, generator=gen).images[0]\n",
    "    red_map = trc.compute_global_heat_map().compute_word_heat_map('red')"
   ]
  },
  {
   "cell_type": "code",
   "execution_count": null,
   "metadata": {},
   "outputs": [],
   "source": [
    "plt.rcParams['figure.figsize'] = (8, 8)\n",
    "fig, ax = make_im_subplots(2, 2)\n",
    "\n",
    "# Original images\n",
    "ax[0, 1].imshow(blue_image)\n",
    "ax[1, 0].imshow(green_image)\n",
    "ax[1, 1].imshow(red_image)\n",
    "\n",
    "# Heat map\n",
    "green_map.plot_overlay(green_image, ax=ax[0, 0])\n",
    "\n",
    "plt.show()"
   ]
  }
 ],
 "metadata": {
  "kernelspec": {
   "display_name": "mcc",
   "language": "python",
   "name": "python3"
  },
  "language_info": {
   "name": "python",
   "version": "3.10.4"
  }
 },
 "nbformat": 4,
 "nbformat_minor": 2
}
